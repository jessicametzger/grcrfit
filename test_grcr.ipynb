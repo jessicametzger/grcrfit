{
 "cells": [
  {
   "cell_type": "code",
   "execution_count": 85,
   "metadata": {},
   "outputs": [],
   "source": [
    "import numpy as np\n",
    "import grcrfit,os"
   ]
  },
  {
   "cell_type": "code",
   "execution_count": 86,
   "metadata": {},
   "outputs": [],
   "source": [
    "from scipy import interpolate\n",
    "import os"
   ]
  },
  {
   "cell_type": "code",
   "execution_count": 91,
   "metadata": {},
   "outputs": [
    {
     "name": "stdout",
     "output_type": "stream",
     "text": [
      "[0.771      0.76046395 0.75430076 0.7499279  0.74653605 0.74376471\n",
      " 0.74142157 0.73939185 0.73760151]\n",
      "[3.22       3.1658146  3.13411817 3.1116292  3.0941854  3.07993277\n",
      " 3.06788235 3.0574438  3.04823635]\n",
      "[11.4        11.189279   11.06601512 10.97855801 10.910721   10.85529412\n",
      " 10.80843137 10.76783701 10.73203024]\n",
      "[20.7        20.30866101 20.07974237 19.91732201 19.79133899 19.68840337\n",
      " 19.60137255 19.52598302 19.45948474]\n",
      "[45.         44.51835201 44.23660599 44.03670401 43.88164799 43.754958\n",
      " 43.64784314 43.55505602 43.47321198]\n",
      "[2.68       2.6107631  2.57026211 2.5415262  2.5192369  2.50102521\n",
      " 2.48562745 2.4722893  2.46052422]\n",
      "[10.1         9.8561657   9.71353178  9.61233141  9.5338343   9.46969749\n",
      "  9.41547059  9.36849711  9.32706357]\n",
      "[38.1        37.13670401 36.57321198 36.17340803 35.86329599 35.609916\n",
      " 35.39568627 35.21011204 35.04642397]\n",
      "[66.8        65.65608602 64.98693923 64.51217203 64.14391398 63.84302525\n",
      " 63.58862745 63.36825805 63.17387846]\n",
      "[143.         141.19382003 140.13727247 139.38764005 138.80617997\n",
      " 138.3310925  137.92941176 137.58146008 137.27454494]\n"
     ]
    }
   ],
   "source": [
    "path = os.getcwd()+'/'\n",
    "\n",
    "# get multiplication factors\n",
    "f=open(path+\"grcrfit/enh_f_2014.dat\",\"r\")\n",
    "Zs=f.readlines()\n",
    "f.close()\n",
    "\n",
    "# make table of multiplication factors\n",
    "Z_alphas = np.array([2, 2.2, 2.4, 2.6, 2.8, 3])\n",
    "Z_Es = np.array([10,100,1000])\n",
    "tables=[Zs[5:15],Zs[16:26],Zs[27:37],Zs[38:48],Zs[49:59],Zs[60:70]]\n",
    "Zs=np.array([[x.split('\\t')[2:-1] for x in tab] for tab in tables]).astype(np.float)\n",
    "\n",
    "abund_rats=np.array([1,0.096,1.38e-3,2.11e-4,3.25e-5])\n",
    "\n",
    "interps = [[None]*Zs.shape[1],[None]*Zs.shape[1]]\n",
    "for j in range(Zs.shape[1]):\n",
    "    interps[0][j] = interpolate.interp2d(np.log10(Z_Es), Z_alphas, Zs[0*3:3*(0+1),j,:].transpose(), \n",
    "                            kind='linear')\n",
    "    interps[1][j] = interpolate.interp2d(np.log10(Z_Es), Z_alphas, Zs[1*3:3*(1+1),j,:].transpose(), \n",
    "                            kind='linear')\n",
    "\n",
    "for j in range(Zs.shape[1]):\n",
    "    print(interps[0][j](np.log10(np.arange(10,100.,10.)), 2.8))\n",
    "\n",
    "# alphas=[]\n",
    "\n",
    "# # QGSJET-II-04 (using Zs[0:3], filling enh_fs[0]), then EPOS-LHC (using Zs[3:], filling enh_fs[1])\n",
    "# k=0\n",
    "# for i in range(alphas.shape[0]): #loop over projectile species\n",
    "\n",
    "#     # get p-p Zs for ratio\n",
    "#     current_Zs=Zs[k*3:3*(k+1),0,:]\n",
    "#     fs=[interpolate.interp1d(Z_alphas,y,kind='linear',fill_value='extrapolate') for y in current_Zs]\n",
    "#     alph_interp_Zs_pp=np.array([f(alphas[i]) for f in fs]) # get at all 3 energies at interpolated index\n",
    "#     f=interpolate.interp1d(np.log10(Z_Es),alph_interp_Zs_pp,kind='linear',fill_value='extrapolate')\n",
    "#     interp_Zs_pp=f(np.log10(E)) #interpolate at desired energies assuming Z vs. log(E) is ~linear\n",
    "\n",
    "#     for j in range(2): #loop over target species\n",
    "#         current_Zs=Zs[k*3:3*(k+1),5*j+i,:]\n",
    "#         fs=[interpolate.interp1d(Z_alphas,y,kind='linear',fill_value='extrapolate') for y in current_Zs]\n",
    "#         alph_interp_Zs=np.array([f(alphas[i]) for f in fs]) # get at all 3 energies at interpolated index\n",
    "#         f=interpolate.interp1d(np.log10(Z_Es),alph_interp_Zs,kind='linear',fill_value='extrapolate')\n",
    "#         interp_Zs=f(np.log10(E)) #interpolate at desired energies assuming Z vs. log(E) is ~linear\n",
    "\n",
    "#         enh_fs[k][5*j+i,:]=(abund_rats[j]/abund_rats[0])*(fluxes[i]/fluxes[0])*(interp_Zs/interp_Zs_pp)"
   ]
  },
  {
   "cell_type": "code",
   "execution_count": 44,
   "metadata": {},
   "outputs": [
    {
     "name": "stdout",
     "output_type": "stream",
     "text": [
      "{'cr': {'/home/jmetzger/grcrfit/cdatabase.USINE': ['ACE-CRIS(1997/08-1998/04)', 'PAMELA(2006/07-2008/03)', 'TRACER06(2006/07)', 'Voyager1(2012/09-2012/12)'], '/home/jmetzger/grcrfit/hdatabase.USINE': ['AMS01(1998/06)', 'AMS02(2011/05-2013/11)', 'ATIC02(2003/01)', 'BESS-PolarI(2004/12)', 'PAMELA(2006/07-2006/07)', 'PAMELA(2006/07-2006/08)', 'PAMELA(2006/07-2008/12)']}, 'gr': {'/home/jmetzger/grcrfit/gammadatabase.USINE': ['FERMI-LAT_LOCAL_HI']}}\n"
     ]
    }
   ],
   "source": [
    "cdata=os.getcwd()+'/cdatabase.USINE'\n",
    "hdata=os.getcwd()+'/hdatabase.USINE'\n",
    "\n",
    "gdata=os.getcwd()+'/gammadatabase.USINE'\n",
    "\n",
    "# f=open(hdata,'r')\n",
    "# data=[x for x in f.readlines()]\n",
    "# f.close()\n",
    "\n",
    "# # remove commented lines & divide by columns\n",
    "# data = [x[:x.find('#')] for x in data]\n",
    "# data = np.array([x.split() for x in data if len(x)>0])\n",
    "\n",
    "# names=np.unique(data[:,1])\n",
    "\n",
    "cnames=['ACE-CRIS(1997/08-1998/04)','PAMELA(2006/07-2008/03)', 'TRACER06(2006/07)',\n",
    " 'Voyager1(2012/09-2012/12)']\n",
    "hnames=['AMS01(1998/06)', 'AMS02(2011/05-2013/11)', 'ATIC02(2003/01)',\n",
    " 'BESS-PolarI(2004/12)','PAMELA(2006/07-2006/07)',\n",
    " 'PAMELA(2006/07-2006/08)', 'PAMELA(2006/07-2008/12)']\n",
    "gnames=['FERMI-LAT_LOCAL_HI']\n",
    "\n",
    "# create dictionary identifying which data to use\n",
    "fdict={'cr': {cdata: cnames,\n",
    "              hdata: hnames},\n",
    "       'gr': {gdata: gnames}}\n",
    "print(fdict)"
   ]
  },
  {
   "cell_type": "code",
   "execution_count": 45,
   "metadata": {},
   "outputs": [
    {
     "ename": "TypeError",
     "evalue": "run_fit() missing 2 required positional arguments: 'nsteps' and 'nwalkers'",
     "output_type": "error",
     "traceback": [
      "\u001b[0;31m---------------------------------------------------------------------------\u001b[0m",
      "\u001b[0;31mTypeError\u001b[0m                                 Traceback (most recent call last)",
      "\u001b[0;32m<ipython-input-45-62c0a356b182>\u001b[0m in \u001b[0;36m<module>\u001b[0;34m\u001b[0m\n\u001b[1;32m      1\u001b[0m \u001b[0;32mimport\u001b[0m \u001b[0mgrcrfit\u001b[0m\u001b[0;34m\u001b[0m\u001b[0;34m\u001b[0m\u001b[0m\n\u001b[1;32m      2\u001b[0m \u001b[0;34m\u001b[0m\u001b[0m\n\u001b[0;32m----> 3\u001b[0;31m \u001b[0mgrcrfit\u001b[0m\u001b[0;34m.\u001b[0m\u001b[0mrun_fit\u001b[0m\u001b[0;34m(\u001b[0m\u001b[0;34m'testrun'\u001b[0m\u001b[0;34m,\u001b[0m\u001b[0mfdict\u001b[0m\u001b[0;34m,\u001b[0m\u001b[0mrerun\u001b[0m\u001b[0;34m=\u001b[0m\u001b[0;32mTrue\u001b[0m\u001b[0;34m)\u001b[0m\u001b[0;34m\u001b[0m\u001b[0;34m\u001b[0m\u001b[0m\n\u001b[0m",
      "\u001b[0;31mTypeError\u001b[0m: run_fit() missing 2 required positional arguments: 'nsteps' and 'nwalkers'"
     ]
    }
   ],
   "source": [
    "import grcrfit\n",
    "\n",
    "grcrfit.run_fit('testrun',fdict,rerun=True)\n"
   ]
  },
  {
   "cell_type": "code",
   "execution_count": null,
   "metadata": {},
   "outputs": [],
   "source": []
  }
 ],
 "metadata": {
  "kernelspec": {
   "display_name": "Python 3",
   "language": "python",
   "name": "python3"
  },
  "language_info": {
   "codemirror_mode": {
    "name": "ipython",
    "version": 3
   },
   "file_extension": ".py",
   "mimetype": "text/x-python",
   "name": "python",
   "nbconvert_exporter": "python",
   "pygments_lexer": "ipython3",
   "version": "3.7.1"
  }
 },
 "nbformat": 4,
 "nbformat_minor": 2
}
