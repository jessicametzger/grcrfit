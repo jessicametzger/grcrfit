{
 "cells": [
  {
   "cell_type": "code",
   "execution_count": 85,
   "metadata": {},
   "outputs": [],
   "source": [
    "import numpy as np\n",
    "import grcrfit,os"
   ]
  },
  {
   "cell_type": "code",
   "execution_count": 86,
   "metadata": {},
   "outputs": [],
   "source": [
    "from scipy import interpolate\n",
    "import os"
   ]
  },
  {
   "cell_type": "code",
   "execution_count": 90,
   "metadata": {},
   "outputs": [
    {
     "name": "stdout",
     "output_type": "stream",
     "text": [
      "[5.45       5.5944944  5.6790182  5.7389888  5.7855056  5.8235126\n",
      " 5.85564706 5.88348319 5.9080364 ]\n",
      "[22.4        22.97195699 23.30653038 23.54391398 23.72804301 23.87848738\n",
      " 24.00568628 24.11587098 24.21306077]\n",
      "[76.8        78.75669497 79.90128816 80.71338994 81.34330503 81.85798313\n",
      " 82.29313726 82.67008492 83.00257631]\n",
      "[138.         141.31132995 143.2483338  144.6226599  145.68867005\n",
      " 146.55966375 147.29607844 147.93398986 148.4966676 ]\n",
      "[298.         307.63295986 313.26788015 317.26591972 320.36704014\n",
      " 322.90084001 325.04313728 326.89887958 328.5357603 ]\n",
      "[19.7        20.00103    20.17712125 20.30205999 20.39897    20.47815125\n",
      " 20.54509804 20.60308999 20.65424251]\n",
      "[73.7        75.02453198 75.79933352 76.34906396 76.77546802 77.1238655\n",
      " 77.41843138 77.67359594 77.89866704]\n",
      "[271.         275.21441994 277.67969757 279.42883988 280.78558006\n",
      " 281.89411751 282.83137256 283.64325982 284.35939513]\n",
      "[473.         482.93398986 488.74500141 492.86797971 496.06601014\n",
      " 498.67899126 500.88823532 502.80196957 504.49000281]\n",
      "[1010.         1037.09269961 1052.94091292 1064.18539922 1072.90730039\n",
      " 1080.03361253 1086.0588236  1091.27809883 1095.88182585]\n"
     ]
    }
   ],
   "source": [
    "path = os.getcwd()+'/'\n",
    "\n",
    "# get multiplication factors\n",
    "f=open(path+\"grcrfit/enh_f_2014.dat\",\"r\")\n",
    "Zs=f.readlines()\n",
    "f.close()\n",
    "\n",
    "# make table of multiplication factors\n",
    "Z_alphas = np.array([2, 2.2, 2.4, 2.6, 2.8, 3])\n",
    "Z_Es = np.array([10,100,1000])\n",
    "tables=[Zs[5:15],Zs[16:26],Zs[27:37],Zs[38:48],Zs[49:59],Zs[60:70]]\n",
    "Zs=np.array([[x.split('\\t')[2:-1] for x in tab] for tab in tables]).astype(np.float)\n",
    "\n",
    "abund_rats=np.array([1,0.096,1.38e-3,2.11e-4,3.25e-5])\n",
    "\n",
    "interps = [[None]*Zs.shape[1],[None]*Zs.shape[1]]\n",
    "for j in range(Zs.shape[1]):\n",
    "    interps[0][j] = interpolate.interp2d(np.log10(Z_Es), Z_alphas, Zs[0*3:3*(0+1),j,:].transpose(), \n",
    "                            kind='linear')\n",
    "    interps[1][j] = interpolate.interp2d(np.log10(Z_Es), Z_alphas, Zs[1*3:3*(1+1),j,:].transpose(), \n",
    "                            kind='linear')\n",
    "\n",
    "for j in range(Zs.shape[1]):\n",
    "    print(interps[0][j](np.log10(np.arange(10,100.,10.)), 2.8))\n",
    "\n",
    "# alphas=[]\n",
    "\n",
    "# # QGSJET-II-04 (using Zs[0:3], filling enh_fs[0]), then EPOS-LHC (using Zs[3:], filling enh_fs[1])\n",
    "# k=0\n",
    "# for i in range(alphas.shape[0]): #loop over projectile species\n",
    "\n",
    "#     # get p-p Zs for ratio\n",
    "#     current_Zs=Zs[k*3:3*(k+1),0,:]\n",
    "#     fs=[interpolate.interp1d(Z_alphas,y,kind='linear',fill_value='extrapolate') for y in current_Zs]\n",
    "#     alph_interp_Zs_pp=np.array([f(alphas[i]) for f in fs]) # get at all 3 energies at interpolated index\n",
    "#     f=interpolate.interp1d(np.log10(Z_Es),alph_interp_Zs_pp,kind='linear',fill_value='extrapolate')\n",
    "#     interp_Zs_pp=f(np.log10(E)) #interpolate at desired energies assuming Z vs. log(E) is ~linear\n",
    "\n",
    "#     for j in range(2): #loop over target species\n",
    "#         current_Zs=Zs[k*3:3*(k+1),5*j+i,:]\n",
    "#         fs=[interpolate.interp1d(Z_alphas,y,kind='linear',fill_value='extrapolate') for y in current_Zs]\n",
    "#         alph_interp_Zs=np.array([f(alphas[i]) for f in fs]) # get at all 3 energies at interpolated index\n",
    "#         f=interpolate.interp1d(np.log10(Z_Es),alph_interp_Zs,kind='linear',fill_value='extrapolate')\n",
    "#         interp_Zs=f(np.log10(E)) #interpolate at desired energies assuming Z vs. log(E) is ~linear\n",
    "\n",
    "#         enh_fs[k][5*j+i,:]=(abund_rats[j]/abund_rats[0])*(fluxes[i]/fluxes[0])*(interp_Zs/interp_Zs_pp)"
   ]
  },
  {
   "cell_type": "code",
   "execution_count": 44,
   "metadata": {},
   "outputs": [
    {
     "name": "stdout",
     "output_type": "stream",
     "text": [
      "{'cr': {'/home/jmetzger/grcrfit/cdatabase.USINE': ['ACE-CRIS(1997/08-1998/04)', 'PAMELA(2006/07-2008/03)', 'TRACER06(2006/07)', 'Voyager1(2012/09-2012/12)'], '/home/jmetzger/grcrfit/hdatabase.USINE': ['AMS01(1998/06)', 'AMS02(2011/05-2013/11)', 'ATIC02(2003/01)', 'BESS-PolarI(2004/12)', 'PAMELA(2006/07-2006/07)', 'PAMELA(2006/07-2006/08)', 'PAMELA(2006/07-2008/12)']}, 'gr': {'/home/jmetzger/grcrfit/gammadatabase.USINE': ['FERMI-LAT_LOCAL_HI']}}\n"
     ]
    }
   ],
   "source": [
    "cdata=os.getcwd()+'/cdatabase.USINE'\n",
    "hdata=os.getcwd()+'/hdatabase.USINE'\n",
    "\n",
    "gdata=os.getcwd()+'/gammadatabase.USINE'\n",
    "\n",
    "# f=open(hdata,'r')\n",
    "# data=[x for x in f.readlines()]\n",
    "# f.close()\n",
    "\n",
    "# # remove commented lines & divide by columns\n",
    "# data = [x[:x.find('#')] for x in data]\n",
    "# data = np.array([x.split() for x in data if len(x)>0])\n",
    "\n",
    "# names=np.unique(data[:,1])\n",
    "\n",
    "cnames=['ACE-CRIS(1997/08-1998/04)','PAMELA(2006/07-2008/03)', 'TRACER06(2006/07)',\n",
    " 'Voyager1(2012/09-2012/12)']\n",
    "hnames=['AMS01(1998/06)', 'AMS02(2011/05-2013/11)', 'ATIC02(2003/01)',\n",
    " 'BESS-PolarI(2004/12)','PAMELA(2006/07-2006/07)',\n",
    " 'PAMELA(2006/07-2006/08)', 'PAMELA(2006/07-2008/12)']\n",
    "gnames=['FERMI-LAT_LOCAL_HI']\n",
    "\n",
    "# create dictionary identifying which data to use\n",
    "fdict={'cr': {cdata: cnames,\n",
    "              hdata: hnames},\n",
    "       'gr': {gdata: gnames}}\n",
    "print(fdict)"
   ]
  },
  {
   "cell_type": "code",
   "execution_count": 45,
   "metadata": {},
   "outputs": [
    {
     "ename": "TypeError",
     "evalue": "run_fit() missing 2 required positional arguments: 'nsteps' and 'nwalkers'",
     "output_type": "error",
     "traceback": [
      "\u001b[0;31m---------------------------------------------------------------------------\u001b[0m",
      "\u001b[0;31mTypeError\u001b[0m                                 Traceback (most recent call last)",
      "\u001b[0;32m<ipython-input-45-62c0a356b182>\u001b[0m in \u001b[0;36m<module>\u001b[0;34m\u001b[0m\n\u001b[1;32m      1\u001b[0m \u001b[0;32mimport\u001b[0m \u001b[0mgrcrfit\u001b[0m\u001b[0;34m\u001b[0m\u001b[0;34m\u001b[0m\u001b[0m\n\u001b[1;32m      2\u001b[0m \u001b[0;34m\u001b[0m\u001b[0m\n\u001b[0;32m----> 3\u001b[0;31m \u001b[0mgrcrfit\u001b[0m\u001b[0;34m.\u001b[0m\u001b[0mrun_fit\u001b[0m\u001b[0;34m(\u001b[0m\u001b[0;34m'testrun'\u001b[0m\u001b[0;34m,\u001b[0m\u001b[0mfdict\u001b[0m\u001b[0;34m,\u001b[0m\u001b[0mrerun\u001b[0m\u001b[0;34m=\u001b[0m\u001b[0;32mTrue\u001b[0m\u001b[0;34m)\u001b[0m\u001b[0;34m\u001b[0m\u001b[0;34m\u001b[0m\u001b[0m\n\u001b[0m",
      "\u001b[0;31mTypeError\u001b[0m: run_fit() missing 2 required positional arguments: 'nsteps' and 'nwalkers'"
     ]
    }
   ],
   "source": [
    "import grcrfit\n",
    "\n",
    "grcrfit.run_fit('testrun',fdict,rerun=True)\n"
   ]
  },
  {
   "cell_type": "code",
   "execution_count": null,
   "metadata": {},
   "outputs": [],
   "source": []
  }
 ],
 "metadata": {
  "kernelspec": {
   "display_name": "Python 3",
   "language": "python",
   "name": "python3"
  },
  "language_info": {
   "codemirror_mode": {
    "name": "ipython",
    "version": 3
   },
   "file_extension": ".py",
   "mimetype": "text/x-python",
   "name": "python",
   "nbconvert_exporter": "python",
   "pygments_lexer": "ipython3",
   "version": "3.7.1"
  }
 },
 "nbformat": 4,
 "nbformat_minor": 2
}
