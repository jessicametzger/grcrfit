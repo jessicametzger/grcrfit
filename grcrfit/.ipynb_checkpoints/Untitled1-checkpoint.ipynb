{
 "cells": [
  {
   "cell_type": "code",
   "execution_count": 76,
   "metadata": {},
   "outputs": [],
   "source": [
    "import subprocess\n",
    "import os\n",
    "\n",
    "# os.system('pwd')\n",
    "\n",
    "# # returns output as byte string\n",
    "# returned_output = subprocess.check_output('pwd')\n",
    "\n",
    "# # using decode() function to convert byte string to string\n",
    "# print(returned_output.decode(\"utf-8\"))"
   ]
  },
  {
   "cell_type": "code",
   "execution_count": 78,
   "metadata": {},
   "outputs": [
    {
     "name": "stdout",
     "output_type": "stream",
     "text": [
      "CompletedProcess(args=['gcc', 'grfluxes.c -L/home/jmetzger/cparamlib -lcparamlib -o grfluxes.o -lm'], returncode=1)\n"
     ]
    }
   ],
   "source": [
    "# output=subprocess.run([\"export\",\"LD_LIBRARY_PATH=/home/jmetzger/cparamlib\"])\n",
    "comp = subprocess.run([\"gcc\",\"grfluxes.c -L/home/jmetzger/cparamlib -lcparamlib -o grfluxes.o -lm\"])\n",
    "\n",
    "# output = subprocess.check_output([\"./grfluxes.o\", \"1 1 1 1\"], shell=True)\n",
    "print(comp)"
   ]
  },
  {
   "cell_type": "code",
   "execution_count": 103,
   "metadata": {},
   "outputs": [],
   "source": [
    "thing1=subprocess.call([\"gcc\",\"grfluxes.c -L/home/jmetzger/cparamlib -lcparamlib -o grfluxes.o -lm\"])\n"
   ]
  },
  {
   "cell_type": "code",
   "execution_count": 102,
   "metadata": {},
   "outputs": [
    {
     "data": {
      "text/plain": [
       "''"
      ]
     },
     "execution_count": 102,
     "metadata": {},
     "output_type": "execute_result"
    }
   ],
   "source": [
    "os.popen(\"/home/jmetzger/grcrfit/grcrfit/grfluxes.o \").read()"
   ]
  }
 ],
 "metadata": {
  "kernelspec": {
   "display_name": "Python 3",
   "language": "python",
   "name": "python3"
  },
  "language_info": {
   "codemirror_mode": {
    "name": "ipython",
    "version": 3
   },
   "file_extension": ".py",
   "mimetype": "text/x-python",
   "name": "python",
   "nbconvert_exporter": "python",
   "pygments_lexer": "ipython3",
   "version": "3.7.1"
  }
 },
 "nbformat": 4,
 "nbformat_minor": 2
}
